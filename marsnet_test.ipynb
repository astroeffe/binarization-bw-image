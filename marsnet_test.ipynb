{
  "nbformat": 4,
  "nbformat_minor": 0,
  "metadata": {
    "colab": {
      "name": "marsnet_test.ipynb",
      "provenance": [],
      "authorship_tag": "ABX9TyNxNRQuqc1SvsmJuV9rLvuJ",
      "include_colab_link": true
    },
    "kernelspec": {
      "name": "python3",
      "display_name": "Python 3"
    },
    "language_info": {
      "name": "python"
    }
  },
  "cells": [
    {
      "cell_type": "markdown",
      "metadata": {
        "id": "view-in-github",
        "colab_type": "text"
      },
      "source": [
        "<a href=\"https://colab.research.google.com/github/frainthespace/binarization-bw-image/blob/main/marsnet_test.ipynb\" target=\"_parent\"><img src=\"https://colab.research.google.com/assets/colab-badge.svg\" alt=\"Open In Colab\"/></a>"
      ]
    },
    {
      "cell_type": "markdown",
      "metadata": {
        "id": "JNlLR9RZGEah"
      },
      "source": [
        "# MarsNet Architecture"
      ]
    },
    {
      "cell_type": "markdown",
      "metadata": {
        "id": "MRCpfxR9GK_m"
      },
      "source": [
        "1.   The first layer applied is a 2D-Convolution layer which takes in 3 channels, outputs 16, wiht a 3 x 3 kernel, 1 x 1 stride and a padding;\n",
        "2.   A set of five ResNet sequence blocks are then defined wach followed by a 2D, down sampling convolution (twice the depth and half the height and width);\n",
        "3.   The output is then flattened, linearized, and activated with a \"leaky-ReLu\" function defined as max{lambda*x,x} where lambda is way less then 0 but still positive.\n",
        "\n"
      ]
    },
    {
      "cell_type": "code",
      "metadata": {
        "id": "F-JHtQ7fFwCd"
      },
      "source": [
        "# Import packages\n",
        "import os\n",
        "import torch\n",
        "from torch import nn\n",
        "from torch.utils.data import DataLoader\n",
        "from torchvision import datasets, transforms"
      ],
      "execution_count": 2,
      "outputs": []
    },
    {
      "cell_type": "markdown",
      "metadata": {
        "id": "rdm8uKcBUAHs"
      },
      "source": [
        "## Get Device for training"
      ]
    },
    {
      "cell_type": "code",
      "metadata": {
        "colab": {
          "base_uri": "https://localhost:8080/"
        },
        "id": "-dcMYhipUCzS",
        "outputId": "91772949-82c7-45e2-b628-1d61186c4458"
      },
      "source": [
        "device = 'cuda' if torch.cuda.is_available() else 'cpu'\n",
        "print('Using {} device'.format(device))"
      ],
      "execution_count": 11,
      "outputs": [
        {
          "output_type": "stream",
          "name": "stdout",
          "text": [
            "Using cpu device\n"
          ]
        }
      ]
    },
    {
      "cell_type": "markdown",
      "metadata": {
        "id": "YqgflWRqIvE-"
      },
      "source": [
        "## Define the Network"
      ]
    },
    {
      "cell_type": "code",
      "metadata": {
        "id": "zVH1s6YZI8nl"
      },
      "source": [
        "# Define MarsNet\n",
        "class MarsNet(nn.Module):\n",
        "    def __init__(self):\n",
        "      super(MarsNet, self).__init__()\n",
        "      self.Conv2d = nn.Conv2d(3, 16, kernel_size=(3,3), stride=(1,1), padding=(1,1), padding_mode='zeros')\n",
        "      self.ResNetBlock = nn.Sequential(\n",
        "          nn.Conv2d(16, 16, kernel_size=(3,3), stride=(1,1), padding=(1,1), padding_mode='zeros'),\n",
        "          nn.Conv2d(16, 16, kernel_size=(3,3), stride=(1,1), padding=(1,1), padding_mode='zeros'),\n",
        "          nn.BatchNorm2d(16, eps=1e-05, momentum=0.1, affine=True, track_running_stats=True),\n",
        "          nn.BatchNorm2d(16, eps=1e-05, momentum=0.1, affine=True, track_running_stats=True),\n",
        "          nn.Dropout(p=0.5, inplace=False)\n",
        "      )\n",
        "      self.Conv2d = nn.Conv2d(16, 32, kernel_size=(3,3), stride=(2,2), padding=(1,1), padding_mode='zeros')\n",
        "      self.ResNetBlock = nn.Sequential(\n",
        "          nn.Conv2d(32, 32, kernel_size=(3,3), stride=(1,1), padding=(1,1), padding_mode='zeros'),\n",
        "          nn.Conv2d(32, 32, kernel_size=(3,3), stride=(1,1), padding=(1,1), padding_mode='zeros'),\n",
        "          nn.BatchNorm2d(32, eps=1e-05, momentum=0.1, affine=True, track_running_stats=True),\n",
        "          nn.BatchNorm2d(32, eps=1e-05, momentum=0.1, affine=True, track_running_stats=True),\n",
        "          nn.Dropout(p=0.5, inplace=False)\n",
        "      )\n",
        "      self.Conv2d = nn.Conv2d(32, 64, kernel_size=(3,3), stride=(2,2), padding=(1,1), padding_mode='zeros')\n",
        "      self.ResNetBlock = nn.Sequential(\n",
        "          nn.Conv2d(64, 64, kernel_size=(3,3), stride=(1,1), padding=(1,1), padding_mode='zeros'),\n",
        "          nn.Conv2d(64, 64, kernel_size=(3,3), stride=(1,1), padding=(1,1), padding_mode='zeros'),\n",
        "          nn.BatchNorm2d(64, eps=1e-05, momentum=0.1, affine=True, track_running_stats=True),\n",
        "          nn.BatchNorm2d(64, eps=1e-05, momentum=0.1, affine=True, track_running_stats=True),\n",
        "          nn.Dropout(p=0.5, inplace=False)\n",
        "      )\n",
        "      self.Conv2d = nn.Conv2d(64, 128, kernel_size=(3,3), stride=(2,2), padding=(1,1), padding_mode='zeros')\n",
        "      self.ResNetBlock = nn.Sequential(\n",
        "          nn.Conv2d(128, 128, kernel_size=(3,3), stride=(1,1), padding=(1,1), padding_mode='zeros'),\n",
        "          nn.Conv2d(128, 128, kernel_size=(3,3), stride=(1,1), padding=(1,1), padding_mode='zeros'),\n",
        "          nn.BatchNorm2d(128, eps=1e-05, momentum=0.1, affine=True, track_running_stats=True),\n",
        "          nn.BatchNorm2d(128, eps=1e-05, momentum=0.1, affine=True, track_running_stats=True),\n",
        "          nn.Dropout(p=0.5, inplace=False)\n",
        "      )\n",
        "      self.Conv2d = nn.Conv2d(128, 256, kernel_size=(3,3), stride=(2,2), padding=(1,1), padding_mode='zeros')\n",
        "      self.ResNetBlock = nn.Sequential(\n",
        "          nn.Conv2d(256, 256, kernel_size=(3,3), stride=(1,1), padding=(1,1), padding_mode='zeros'),\n",
        "          nn.Conv2d(256, 256, kernel_size=(3,3), stride=(1,1), padding=(1,1), padding_mode='zeros'),\n",
        "          nn.BatchNorm2d(256, eps=1e-05, momentum=0.1, affine=True, track_running_stats=True),\n",
        "          nn.BatchNorm2d(256, eps=1e-05, momentum=0.1, affine=True, track_running_stats=True),\n",
        "          nn.Dropout(p=0.5, inplace=False)\n",
        "      )\n",
        "      self.Conv2d = nn.Conv2d(256, 512, kernel_size=(3,3), stride=(2,2), padding=(1,1), padding_mode='zeros')\n",
        "      self.flatten = nn.Flatten()\n",
        "      self.linear = nn.Linear(in_features=131072, out_features=3, bias=True)\n",
        "\n",
        "def forward(self, x):\n",
        "        x = self.flatten(x)\n",
        "        logits = self.linear_relu_stack(x)\n",
        "        return logits"
      ],
      "execution_count": 20,
      "outputs": []
    },
    {
      "cell_type": "code",
      "metadata": {
        "colab": {
          "base_uri": "https://localhost:8080/"
        },
        "id": "F4EEr5gJUHp5",
        "outputId": "34b2e56c-2bcd-4ccf-9e30-f71987d72073"
      },
      "source": [
        "model = MarsNet().to(device)\n",
        "print(model)"
      ],
      "execution_count": 21,
      "outputs": [
        {
          "output_type": "stream",
          "name": "stdout",
          "text": [
            "MarsNet(\n",
            "  (Conv2d): Conv2d(256, 512, kernel_size=(3, 3), stride=(2, 2), padding=(1, 1))\n",
            "  (ResNetBlock): Sequential(\n",
            "    (0): Conv2d(256, 256, kernel_size=(3, 3), stride=(1, 1), padding=(1, 1))\n",
            "    (1): Conv2d(256, 256, kernel_size=(3, 3), stride=(1, 1), padding=(1, 1))\n",
            "    (2): BatchNorm2d(256, eps=1e-05, momentum=0.1, affine=True, track_running_stats=True)\n",
            "    (3): BatchNorm2d(256, eps=1e-05, momentum=0.1, affine=True, track_running_stats=True)\n",
            "    (4): Dropout(p=0.5, inplace=False)\n",
            "  )\n",
            "  (flatten): Flatten(start_dim=1, end_dim=-1)\n",
            "  (linear): Linear(in_features=131072, out_features=3, bias=True)\n",
            ")\n"
          ]
        }
      ]
    },
    {
      "cell_type": "code",
      "metadata": {
        "id": "PE2CenDdHHXe"
      },
      "source": [
        "class NeuralNetwork(nn.Module):\n",
        "    def __init__(self):\n",
        "        super(NeuralNetwork, self).__init__()\n",
        "        self.flatten = nn.Flatten()\n",
        "        self.linear_relu_stack = nn.Sequential(\n",
        "            nn.Linear(28*28, 512),\n",
        "            nn.ReLU(),\n",
        "            nn.Linear(512, 512),\n",
        "            nn.ReLU(),\n",
        "            nn.Linear(512, 10),\n",
        "        )\n",
        "\n",
        "    def forward(self, x):\n",
        "        x = self.flatten(x)\n",
        "        logits = self.linear_relu_stack(x)\n",
        "        return logits"
      ],
      "execution_count": 7,
      "outputs": []
    },
    {
      "cell_type": "code",
      "metadata": {
        "id": "pYMe2eBiI1L8"
      },
      "source": [
        ""
      ],
      "execution_count": null,
      "outputs": []
    }
  ]
}